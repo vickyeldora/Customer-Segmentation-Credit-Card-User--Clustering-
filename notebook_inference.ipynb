{
 "cells": [
  {
   "cell_type": "markdown",
   "metadata": {},
   "source": [
    "# Model inference\n"
   ]
  },
  {
   "cell_type": "markdown",
   "metadata": {},
   "source": [
    "## Perkenalan"
   ]
  },
  {
   "cell_type": "markdown",
   "metadata": {},
   "source": [
    ">Latar Belakang : \n",
    "\n",
    "Bank ingin lebih memahami perilaku dan kebiasaan pengguna kartu kredit, Bank ini mengumpulkan data pengguna kartu kredit selama 6 bulan tentang kebiasaan dan preferensi pengguna, yang dapat membantu bank dalam menyusun strategi pemasaran yang lebih efektif dan menyediakan layanan yang lebih sesuai dengan kebutuhan pelanggan. Kemudian bank ini memberikan data kepada saya yang seorang data science agar dapat mengkategorikan pengguna kartu kredit.\n",
    "\n",
    ">Obejective :\n",
    "\n",
    "Proyek ini ingin membangun model clustering untuk melakukan Customer Segmentation dari data kartu kredit bank ini. Dengan cara membuat `model clustering`  dengan K-MEANS sehingga nantinya bank dapat mengetahui lelompok-kelompok yang memiliki karakteristik perilaku yang serupa. Dengan demikian, bank dapat menyesuaikan strategi pemasaran dan layanan secara lebih spesifik sesuai dengan kebutuhan dan preferensi dari setiap segmen pelanggan."
   ]
  },
  {
   "cell_type": "markdown",
   "metadata": {},
   "source": [
    "## Import Libraries"
   ]
  },
  {
   "cell_type": "code",
   "execution_count": 1,
   "metadata": {},
   "outputs": [],
   "source": [
    "# import library\n",
    "import pandas as pd\n",
    "import numpy as np\n",
    "import pickle\n",
    "import json\n",
    "# agar tidak muncul warning\n",
    "import warnings\n",
    "warnings.filterwarnings(\"ignore\")"
   ]
  },
  {
   "cell_type": "markdown",
   "metadata": {},
   "source": [
    "## Load data"
   ]
  },
  {
   "cell_type": "code",
   "execution_count": 2,
   "metadata": {},
   "outputs": [],
   "source": [
    "with open('model_scaler.pkl', 'rb') as file_1:\n",
    "  model_scaler = pickle.load(file_1)\n",
    "\n",
    "with open('model_pca.pkl', 'rb') as file_2:\n",
    "  model_pca = pickle.load(file_2)\n",
    "\n",
    "with open('model_km.pkl', 'rb') as file_3:\n",
    "  model_km = pickle.load(file_3)\n",
    "\n",
    "with open('num_col.txt','r') as file_4:\n",
    "  num_col = json.load(file_4)"
   ]
  },
  {
   "cell_type": "markdown",
   "metadata": {},
   "source": [
    "## Load data yang sudah di pisahakan untuk inference"
   ]
  },
  {
   "cell_type": "code",
   "execution_count": 3,
   "metadata": {},
   "outputs": [
    {
     "data": {
      "text/html": [
       "<div>\n",
       "<style scoped>\n",
       "    .dataframe tbody tr th:only-of-type {\n",
       "        vertical-align: middle;\n",
       "    }\n",
       "\n",
       "    .dataframe tbody tr th {\n",
       "        vertical-align: top;\n",
       "    }\n",
       "\n",
       "    .dataframe thead th {\n",
       "        text-align: right;\n",
       "    }\n",
       "</style>\n",
       "<table border=\"1\" class=\"dataframe\">\n",
       "  <thead>\n",
       "    <tr style=\"text-align: right;\">\n",
       "      <th></th>\n",
       "      <th>CUST_ID</th>\n",
       "      <th>BALANCE</th>\n",
       "      <th>BALANCE_FREQUENCY</th>\n",
       "      <th>PURCHASES</th>\n",
       "      <th>ONEOFF_PURCHASES</th>\n",
       "      <th>INSTALLMENTS_PURCHASES</th>\n",
       "      <th>CASH_ADVANCE</th>\n",
       "      <th>PURCHASES_FREQUENCY</th>\n",
       "      <th>ONEOFF_PURCHASES_FREQUENCY</th>\n",
       "      <th>PURCHASES_INSTALLMENTS_FREQUENCY</th>\n",
       "      <th>CASH_ADVANCE_FREQUENCY</th>\n",
       "      <th>CASH_ADVANCE_TRX</th>\n",
       "      <th>PURCHASES_TRX</th>\n",
       "      <th>CREDIT_LIMIT</th>\n",
       "      <th>PAYMENTS</th>\n",
       "      <th>MINIMUM_PAYMENTS</th>\n",
       "      <th>PRC_FULL_PAYMENT</th>\n",
       "      <th>TENURE</th>\n",
       "    </tr>\n",
       "  </thead>\n",
       "  <tbody>\n",
       "    <tr>\n",
       "      <th>0</th>\n",
       "      <td>1234</td>\n",
       "      <td>2000</td>\n",
       "      <td>0.5</td>\n",
       "      <td>700</td>\n",
       "      <td>1000</td>\n",
       "      <td>0</td>\n",
       "      <td>1</td>\n",
       "      <td>0.5</td>\n",
       "      <td>0.5</td>\n",
       "      <td>0.5</td>\n",
       "      <td>0.5</td>\n",
       "      <td>0</td>\n",
       "      <td>10</td>\n",
       "      <td>2000</td>\n",
       "      <td>500</td>\n",
       "      <td>1000</td>\n",
       "      <td>0</td>\n",
       "      <td>12</td>\n",
       "    </tr>\n",
       "  </tbody>\n",
       "</table>\n",
       "</div>"
      ],
      "text/plain": [
       "   CUST_ID  BALANCE  BALANCE_FREQUENCY  PURCHASES  ONEOFF_PURCHASES  \\\n",
       "0     1234     2000                0.5        700              1000   \n",
       "\n",
       "   INSTALLMENTS_PURCHASES  CASH_ADVANCE  PURCHASES_FREQUENCY  \\\n",
       "0                       0             1                  0.5   \n",
       "\n",
       "   ONEOFF_PURCHASES_FREQUENCY  PURCHASES_INSTALLMENTS_FREQUENCY  \\\n",
       "0                         0.5                               0.5   \n",
       "\n",
       "   CASH_ADVANCE_FREQUENCY  CASH_ADVANCE_TRX  PURCHASES_TRX  CREDIT_LIMIT  \\\n",
       "0                     0.5                 0             10          2000   \n",
       "\n",
       "   PAYMENTS  MINIMUM_PAYMENTS  PRC_FULL_PAYMENT  TENURE  \n",
       "0       500              1000                 0      12  "
      ]
     },
     "execution_count": 3,
     "metadata": {},
     "output_type": "execute_result"
    }
   ],
   "source": [
    "#Create new data\n",
    "df_inf = {'CUST_ID' : 1234, \n",
    "        'BALANCE' : 2000, \n",
    "        'BALANCE_FREQUENCY' : 0.5,\n",
    "        'PURCHASES' : 700, \n",
    "        'ONEOFF_PURCHASES' : 1000, \n",
    "        'INSTALLMENTS_PURCHASES' : 0, \n",
    "        'CASH_ADVANCE' : 1,\n",
    "        'PURCHASES_FREQUENCY' : 0.5,\n",
    "        'ONEOFF_PURCHASES_FREQUENCY' : 0.5, \n",
    "        'PURCHASES_INSTALLMENTS_FREQUENCY' : 0.5,\n",
    "        'CASH_ADVANCE_FREQUENCY' : 0.5,   \n",
    "        'CASH_ADVANCE_TRX' : 0, \n",
    "        'PURCHASES_TRX' : 10, \n",
    "        'CREDIT_LIMIT' : 2000,  \n",
    "        'PAYMENTS' : 500, \n",
    "        'MINIMUM_PAYMENTS' : 1000, \n",
    "        'PRC_FULL_PAYMENT' : 0, \n",
    "        'TENURE' : 12}\n",
    "\n",
    "# dave ke dataframe\n",
    "df_inf = pd.DataFrame([df_inf])\n",
    "df_inf"
   ]
  },
  {
   "cell_type": "markdown",
   "metadata": {},
   "source": [
    "## hanya memakai numerical kolom"
   ]
  },
  {
   "cell_type": "code",
   "execution_count": 4,
   "metadata": {},
   "outputs": [
    {
     "data": {
      "text/html": [
       "<div>\n",
       "<style scoped>\n",
       "    .dataframe tbody tr th:only-of-type {\n",
       "        vertical-align: middle;\n",
       "    }\n",
       "\n",
       "    .dataframe tbody tr th {\n",
       "        vertical-align: top;\n",
       "    }\n",
       "\n",
       "    .dataframe thead th {\n",
       "        text-align: right;\n",
       "    }\n",
       "</style>\n",
       "<table border=\"1\" class=\"dataframe\">\n",
       "  <thead>\n",
       "    <tr style=\"text-align: right;\">\n",
       "      <th></th>\n",
       "      <th>BALANCE</th>\n",
       "      <th>PURCHASES</th>\n",
       "      <th>ONEOFF_PURCHASES</th>\n",
       "      <th>INSTALLMENTS_PURCHASES</th>\n",
       "      <th>CASH_ADVANCE</th>\n",
       "      <th>CASH_ADVANCE_TRX</th>\n",
       "      <th>PURCHASES_TRX</th>\n",
       "      <th>CREDIT_LIMIT</th>\n",
       "      <th>PAYMENTS</th>\n",
       "      <th>MINIMUM_PAYMENTS</th>\n",
       "      <th>PRC_FULL_PAYMENT</th>\n",
       "      <th>TENURE</th>\n",
       "    </tr>\n",
       "  </thead>\n",
       "  <tbody>\n",
       "    <tr>\n",
       "      <th>0</th>\n",
       "      <td>2000</td>\n",
       "      <td>700</td>\n",
       "      <td>1000</td>\n",
       "      <td>0</td>\n",
       "      <td>1</td>\n",
       "      <td>0</td>\n",
       "      <td>10</td>\n",
       "      <td>2000</td>\n",
       "      <td>500</td>\n",
       "      <td>1000</td>\n",
       "      <td>0</td>\n",
       "      <td>12</td>\n",
       "    </tr>\n",
       "  </tbody>\n",
       "</table>\n",
       "</div>"
      ],
      "text/plain": [
       "   BALANCE  PURCHASES  ONEOFF_PURCHASES  INSTALLMENTS_PURCHASES  CASH_ADVANCE  \\\n",
       "0     2000        700              1000                       0             1   \n",
       "\n",
       "   CASH_ADVANCE_TRX  PURCHASES_TRX  CREDIT_LIMIT  PAYMENTS  MINIMUM_PAYMENTS  \\\n",
       "0                 0             10          2000       500              1000   \n",
       "\n",
       "   PRC_FULL_PAYMENT  TENURE  \n",
       "0                 0      12  "
      ]
     },
     "execution_count": 4,
     "metadata": {},
     "output_type": "execute_result"
    }
   ],
   "source": [
    "# split between nimerical and categorical column\n",
    "df_inf_num = df_inf[num_col]\n",
    "\n",
    "# menampilkan kolom numerical\n",
    "df_inf_num"
   ]
  },
  {
   "cell_type": "markdown",
   "metadata": {},
   "source": [
    "## Scaling dan PCA"
   ]
  },
  {
   "cell_type": "code",
   "execution_count": 5,
   "metadata": {},
   "outputs": [],
   "source": [
    "# scalling\n",
    "df_inf_num_scaled = model_scaler.transform(df_inf_num)\n",
    "\n",
    "#PCA (reduksi dimensi)\n",
    "df_inf_num_pca = model_pca.transform(df_inf_num_scaled)"
   ]
  },
  {
   "cell_type": "markdown",
   "metadata": {},
   "source": [
    "## Melakukan prediksi"
   ]
  },
  {
   "cell_type": "code",
   "execution_count": 6,
   "metadata": {},
   "outputs": [
    {
     "name": "stdout",
     "output_type": "stream",
     "text": [
      "Frugal Spenders\n"
     ]
    }
   ],
   "source": [
    "# predict using linear regression\n",
    "df_pred = model_km.predict(df_inf_num_pca)\n",
    "\n",
    "if df_pred == 0:\n",
    "    print('Moderate Spenders')\n",
    "elif df_pred == 1:\n",
    "    print('High-Balance Spenders')\n",
    "elif df_pred == 2:\n",
    "    print('Frugal Spenders')\n",
    "elif df_pred == 3:\n",
    "    print('High-Volume Spenders')"
   ]
  },
  {
   "cell_type": "markdown",
   "metadata": {},
   "source": [
    "Prediksi dari data yang dimasukan menunjukkan : `Frugal Spenders` gaya hidup mewah yang dimiliki nasabah dengan saldo dan limit kredit sangat tinggi."
   ]
  }
 ],
 "metadata": {
  "kernelspec": {
   "display_name": "base",
   "language": "python",
   "name": "python3"
  },
  "language_info": {
   "codemirror_mode": {
    "name": "ipython",
    "version": 3
   },
   "file_extension": ".py",
   "mimetype": "text/x-python",
   "name": "python",
   "nbconvert_exporter": "python",
   "pygments_lexer": "ipython3",
   "version": "3.11.7"
  }
 },
 "nbformat": 4,
 "nbformat_minor": 2
}
